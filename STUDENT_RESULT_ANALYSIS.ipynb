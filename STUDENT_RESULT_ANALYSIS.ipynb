{
  "nbformat": 4,
  "nbformat_minor": 0,
  "metadata": {
    "colab": {
      "provenance": [],
      "authorship_tag": "ABX9TyMvobgC+Biu9sT4YpWdMf70",
      "include_colab_link": true
    },
    "kernelspec": {
      "name": "python3",
      "display_name": "Python 3"
    },
    "language_info": {
      "name": "python"
    }
  },
  "cells": [
    {
      "cell_type": "markdown",
      "metadata": {
        "id": "view-in-github",
        "colab_type": "text"
      },
      "source": [
        "<a href=\"https://colab.research.google.com/github/Kishan20023/Python_Projects/blob/main/STUDENT_RESULT_ANALYSIS.ipynb\" target=\"_parent\"><img src=\"https://colab.research.google.com/assets/colab-badge.svg\" alt=\"Open In Colab\"/></a>"
      ]
    },
    {
      "cell_type": "code",
      "metadata": {
        "id": "nN_A4i4g0snD",
        "colab": {
          "base_uri": "https://localhost:8080/"
        },
        "outputId": "4804fd02-1b17-4861-e4cd-e53c0b842bea"
      },
      "source": [
        "# Calling the function\n",
        "\n",
        "def results(n):\n",
        "  #Initiating values\n",
        "\n",
        "  d={}\n",
        "  name=input(\"Enter the student name : \")\n",
        "  roll_number=input(\"Enter the roll number : \")\n",
        "  total=0\n",
        "\n",
        "  # Appending elements in a dictionary\n",
        "\n",
        "  for i in range(n):\n",
        "    subject=input(\"Enter the subject name :\")\n",
        "    mark=int(input(\"Enter the marks : \"))\n",
        "    d[subject]=mark\n",
        "  print(d)\n",
        "\n",
        "  # Iterating the values of the dictionary\n",
        "\n",
        "  for i in d.values():\n",
        "    total=total+i\n",
        "\n",
        "  # Printing the total and average of the student\n",
        "\n",
        "  print(\"Total of \",name,\" : \",total,\"/\",n*100)\n",
        "  average=total//n\n",
        "  print(\"Average of \",name,\" : \",average)\n",
        "\n",
        "  # Using chained conditional for getting grades\n",
        "\n",
        "  if average>=90:\n",
        "    print(name,\" got an O grade!\")\n",
        "  elif average>=80 and average<=90:\n",
        "    print(name,\" got an A grade!\")\n",
        "  elif average>=70 and average<=80:\n",
        "    print(name,\" got a B grade!\")\n",
        "  elif average>=60 and average<=70:\n",
        "    print(name,\" got a C grade!\")\n",
        "  elif average>=50 and average<=60:\n",
        "    print(name,\" got a D grade!\")\n",
        "  else:\n",
        "    print(name,\"got failed!\")\n",
        "\n",
        "# Main Program\n",
        "\n",
        "num=int(input(\"Enter the number of subjects : \"))\n",
        "x=int(input(\"Enter the number of students : \"))\n",
        "\n",
        "# While loop for generating student details\n",
        "\n",
        "while(x>0):\n",
        "  results(num)\n",
        "  x=x-1"
      ],
      "execution_count": null,
      "outputs": [
        {
          "output_type": "stream",
          "text": [
            "Enter the number of subjects : 5\n",
            "Enter the number of students : 2\n",
            "Enter the student name : NAVEEN\n",
            "Enter the roll number : UCS20245\n",
            "Enter the subject name :ENGLISH\n",
            "Enter the marks : 89\n",
            "Enter the subject name :MATHS\n",
            "Enter the marks : 82\n",
            "Enter the subject name :PYTHON\n",
            "Enter the marks : 86\n",
            "Enter the subject name :PHYSICS\n",
            "Enter the marks : 91\n",
            "Enter the subject name :ENGINEERING GRAPHICS\n",
            "Enter the marks : 92\n",
            "{'ENGLISH': 89, 'MATHS': 82, 'PYTHON': 86, 'PHYSICS': 91, 'ENGINEERING GRAPHICS': 92}\n",
            "Total of  NAVEEN  :  440 / 500\n",
            "Average of  NAVEEN  :  88\n",
            "NAVEEN  got an A grade!\n",
            "Enter the student name : KARAN\n",
            "Enter the roll number : UCS20234\n",
            "Enter the subject name :ENGLISH\n",
            "Enter the marks : 91\n",
            "Enter the subject name :MATHS\n",
            "Enter the marks : 78\n",
            "Enter the subject name :CHEMISTRY\n",
            "Enter the marks : 92\n",
            "Enter the subject name :PYTHON\n",
            "Enter the marks : 96\n",
            "Enter the subject name :ENGINEERING GRAPHICS\n",
            "Enter the marks : 87\n",
            "{'ENGLISH': 91, 'MATHS': 78, 'CHEMISTRY': 92, 'PYTHON': 96, 'ENGINEERING GRAPHICS': 87}\n",
            "Total of  KARAN  :  444 / 500\n",
            "Average of  KARAN  :  88\n",
            "KARAN  got an A grade!\n"
          ],
          "name": "stdout"
        }
      ]
    },
    {
      "cell_type": "code",
      "metadata": {
        "id": "2a5NVqJ4-BzI"
      },
      "source": [],
      "execution_count": null,
      "outputs": []
    }
  ]
}