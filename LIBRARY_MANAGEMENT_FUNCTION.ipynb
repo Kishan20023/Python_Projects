{
  "nbformat": 4,
  "nbformat_minor": 0,
  "metadata": {
    "colab": {
      "provenance": [],
      "authorship_tag": "ABX9TyOzfdGYPixGp013ceYUEwN6",
      "include_colab_link": true
    },
    "kernelspec": {
      "name": "python3",
      "display_name": "Python 3"
    }
  },
  "cells": [
    {
      "cell_type": "markdown",
      "metadata": {
        "id": "view-in-github",
        "colab_type": "text"
      },
      "source": [
        "<a href=\"https://colab.research.google.com/github/Kishan20023/Python_Projects/blob/main/LIBRARY_MANAGEMENT_FUNCTION.ipynb\" target=\"_parent\"><img src=\"https://colab.research.google.com/assets/colab-badge.svg\" alt=\"Open In Colab\"/></a>"
      ]
    },
    {
      "cell_type": "code",
      "metadata": {
        "id": "cITINUw5fQsT"
      },
      "source": [],
      "execution_count": null,
      "outputs": []
    },
    {
      "cell_type": "code",
      "metadata": {
        "id": "hFqpOUgSbc_j",
        "colab": {
          "base_uri": "https://localhost:8080/"
        },
        "outputId": "e7a67d7e-48a8-4008-e3eb-b87cb2b0bcc8"
      },
      "source": [
        "# defining the function for first category\n",
        "\n",
        "def fictionbook(book):\n",
        "    print(book)\n",
        "    if book ==\"The divergents\" or book==\"The percy Jackson\" or book == \"Never have I ever\" or book==\"Burn out\" or book == \"The fate winx saga\":\n",
        "        print(\"available\")\n",
        "    else:\n",
        "        print(\"not available\")\n",
        "\n",
        "# defining the function for second category\n",
        "\n",
        "def academicbook(book):\n",
        "    print(book)\n",
        "    if book ==\"Physics\" or book==\"Coding\" or book ==\"Maths\" or book==\"Engineering Graphics\" or book ==\"Chemistry\" or book==\"English\" :\n",
        "        print(\"available\")\n",
        "    else:\n",
        "        print(\"not available\")\n",
        "\n",
        "# defining the function for third category\n",
        "\n",
        "def biography(book):\n",
        "    print(book)\n",
        "    if book == \"My story\" or book==\"The wings of fire\" or book ==\"A complete biography of Abraham lincoln\":\n",
        "        print(\"available\")\n",
        "    else:\n",
        "        print(\"not available\")\n",
        "\n",
        "# main program\n",
        "\n",
        "# importing datetime module\n",
        "\n",
        "import datetime as dt\n",
        "date=dt.date.today()\n",
        "dates=dt.datetime.now()\n",
        "dts=dt.timedelta(7)\n",
        "next_ending_time=date+dts\n",
        "print(dates)\n",
        "\n",
        "# for entering inputs\n",
        "\n",
        "name=input(\"enter your name:\")\n",
        "rollno =int(input(\"enter your roll no:\"))\n",
        "print(\"1:fictionbook\\n2:collegebook\\n3:biography\")\n",
        "n=int(input(\"category:\"))\n",
        "\n",
        "# conditons for calling function\n",
        "\n",
        "if n==1:\n",
        "  a=input(\"enter the name of the book:\")\n",
        "  fictionbook(a)\n",
        "elif n==2:\n",
        "  a=input(\"enter the name of the book:\")\n",
        "  academicbook(a)\n",
        "elif n==3:\n",
        "  a=input(\"enter the name of the book:\")\n",
        "  biography(a)\n",
        "else:\n",
        "    print(\"wrong option\")\n",
        "\n",
        "# conditions for giving due date\n",
        "\n",
        "if n==1 or n==2 or n==3:\n",
        "  print(\"due date\")\n",
        "  print(next_ending_time)\n",
        "\n",
        "\n",
        "\n"
      ],
      "execution_count": 1,
      "outputs": [
        {
          "output_type": "stream",
          "name": "stdout",
          "text": [
            "2023-08-06 06:41:28.923463\n",
            "enter your name:lokesh\n",
            "enter your roll no:2\n",
            "1:fictionbook\n",
            "2:collegebook\n",
            "3:biography\n",
            "category:2\n",
            "enter the name of the book:Chemistry\n",
            "Chemistry\n",
            "available\n",
            "due date\n",
            "2023-08-13\n"
          ]
        }
      ]
    },
    {
      "cell_type": "code",
      "metadata": {
        "id": "9xGafFhpb-Td"
      },
      "source": [],
      "execution_count": null,
      "outputs": []
    }
  ]
}